{
  "nbformat": 4,
  "nbformat_minor": 0,
  "metadata": {
    "colab": {
      "provenance": []
    },
    "kernelspec": {
      "name": "python3",
      "display_name": "Python 3"
    },
    "language_info": {
      "name": "python"
    }
  },
  "cells": [
    {
      "cell_type": "markdown",
      "source": [
        "# **Minimum Spanning Tree**\n",
        "\n",
        "\n"
      ],
      "metadata": {
        "id": "RC3ahkc5f7y5"
      }
    },
    {
      "cell_type": "markdown",
      "source": [
        "# **Prim Algorithm:** with Adjacency Matrix\n"
      ],
      "metadata": {
        "id": "DK8jtCLZhsuY"
      }
    },
    {
      "cell_type": "code",
      "execution_count": 1,
      "metadata": {
        "colab": {
          "base_uri": "https://localhost:8080/"
        },
        "id": "pdK4IlFYf1Lw",
        "outputId": "28975034-ffcb-4f5c-a0b7-bc3b7840cd9a"
      },
      "outputs": [
        {
          "output_type": "stream",
          "name": "stdout",
          "text": [
            "11\n",
            "-1 0 1 4 1 \n"
          ]
        }
      ],
      "source": [
        "from math import inf\n",
        "\n",
        "N = 5\n",
        "\n",
        "def prim(parent, adj):\n",
        "    inSet = [False] * N\n",
        "    bestEdge = [inf] * N\n",
        "\n",
        "    bestEdge[0] = 0\n",
        "    parent[0] = -1\n",
        "    minCost = 0\n",
        "\n",
        "    for _ in range(N):\n",
        "        v = -1\n",
        "        for j in range(N):\n",
        "            if not inSet[j] and (v == -1 or bestEdge[v] > bestEdge[j]):\n",
        "                v = j\n",
        "        minCost += bestEdge[v]\n",
        "        inSet[v] = True\n",
        "\n",
        "        for u in range(N):\n",
        "            if adj[v][u] != 0 and not inSet[u] and adj[v][u] < bestEdge[u]:\n",
        "                bestEdge[u] = adj[v][u]\n",
        "                parent[u] = v\n",
        "\n",
        "    return minCost\n",
        "\n",
        "g = [\n",
        "    [0, 3, 4, 0, 0],\n",
        "    [3, 0, 2, 0, 1],\n",
        "    [4, 2, 0, 9, 0],\n",
        "    [0, 0, 9, 0, 5],\n",
        "    [0, 1, 0, 5, 0]\n",
        "]\n",
        "\n",
        "p = [0] * N\n",
        "\n",
        "result = prim(p, g)\n",
        "print(result)\n",
        "\n",
        "for i in range(N):\n",
        "    print(p[i], end=\" \")\n",
        "print()\n"
      ]
    },
    {
      "cell_type": "markdown",
      "source": [
        "# **Prim Algorithm:** with Adjacency List\n"
      ],
      "metadata": {
        "id": "lqea8XXbiPtI"
      }
    },
    {
      "cell_type": "code",
      "source": [
        "import heapq\n",
        "INF = 1e9 + 100\n",
        "N = 5\n",
        "\n",
        "def prim(parent, adj):\n",
        "    candidates = []\n",
        "    inSet = [False] * N\n",
        "    bestEdge = [INF] * N\n",
        "\n",
        "    bestEdge[0] = 0\n",
        "    parent[0] = -1\n",
        "    minCost = 0\n",
        "    heapq.heappush(candidates, (0, 0))\n",
        "\n",
        "    while candidates:\n",
        "        w, v = heapq.heappop(candidates)\n",
        "        if inSet[v]:\n",
        "            continue\n",
        "        minCost += bestEdge[v]\n",
        "        inSet[v] = True\n",
        "        for u, weight in adj[v]:\n",
        "            if not inSet[u] and weight < bestEdge[u]:\n",
        "                bestEdge[u] = weight\n",
        "                parent[u] = v\n",
        "                heapq.heappush(candidates, (bestEdge[u], u))\n",
        "\n",
        "    return minCost\n",
        "\n",
        "g = [\n",
        "    [(1, 3), (2, 4)],\n",
        "    [(0, 3), (2, 2), (4, 1)],\n",
        "    [(0, 4), (1, 2), (3, 9)],\n",
        "    [(2, 9), (4, 5)],\n",
        "    [(1, 1), (3, 5)]\n",
        "]\n",
        "\n",
        "p = [0] * N\n",
        "\n",
        "result = prim(p, g)\n",
        "print(result)\n",
        "\n",
        "for i in range(N):\n",
        "    print(p[i], end=\" \")\n",
        "print()\n"
      ],
      "metadata": {
        "colab": {
          "base_uri": "https://localhost:8080/"
        },
        "id": "g7Vp5Tf9iP1w",
        "outputId": "0a0aa4f8-a8a5-4ea2-d1f5-7da655d93a46"
      },
      "execution_count": 2,
      "outputs": [
        {
          "output_type": "stream",
          "name": "stdout",
          "text": [
            "11\n",
            "-1 0 1 4 1 \n"
          ]
        }
      ]
    }
  ]
}