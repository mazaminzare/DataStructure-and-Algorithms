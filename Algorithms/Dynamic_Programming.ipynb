{
  "nbformat": 4,
  "nbformat_minor": 0,
  "metadata": {
    "colab": {
      "provenance": []
    },
    "kernelspec": {
      "name": "python3",
      "display_name": "Python 3"
    },
    "language_info": {
      "name": "python"
    }
  },
  "cells": [
    {
      "cell_type": "markdown",
      "source": [
        "# **Fibonacci Sequence:**"
      ],
      "metadata": {
        "id": "1Ev7Co9vvyyC"
      }
    },
    {
      "cell_type": "code",
      "execution_count": 1,
      "metadata": {
        "colab": {
          "base_uri": "https://localhost:8080/"
        },
        "id": "Zz9eb1T5fd4T",
        "outputId": "e014c547-d0c7-419d-b9ed-864225b740e2"
      },
      "outputs": [
        {
          "output_type": "stream",
          "name": "stdout",
          "text": [
            "55\n"
          ]
        }
      ],
      "source": [
        "def fibonacci(n):\n",
        "    if n <= 1:\n",
        "        return n\n",
        "\n",
        "    dp = [0] * (n + 1)\n",
        "    dp[1] = 1\n",
        "\n",
        "    for i in range(2, n + 1):\n",
        "        dp[i] = dp[i - 1] + dp[i - 2]\n",
        "\n",
        "    return dp[n]\n",
        "\n",
        "# Example usage\n",
        "print(fibonacci(10))  # Output: 55\n"
      ]
    },
    {
      "cell_type": "markdown",
      "source": [
        "# **Coin Change:**"
      ],
      "metadata": {
        "id": "DVfFeltRv1sw"
      }
    },
    {
      "cell_type": "code",
      "source": [
        "def coin_change(coins, amount):\n",
        "    dp = [float('inf')] * (amount + 1)\n",
        "    dp[0] = 0\n",
        "\n",
        "    for coin in coins:\n",
        "        for i in range(coin, amount + 1):\n",
        "            dp[i] = min(dp[i], dp[i - coin] + 1)\n",
        "\n",
        "    return dp[amount] if dp[amount] != float('inf') else -1\n",
        "\n",
        "# Example usage\n",
        "print(coin_change([1, 2, 5], 11))  # Output: 3 (11 = 5 + 5 + 1)\n"
      ],
      "metadata": {
        "colab": {
          "base_uri": "https://localhost:8080/"
        },
        "id": "ydzxvCmJv11Q",
        "outputId": "a71fe0bc-42af-43b7-9d04-571b59f3f03a"
      },
      "execution_count": 2,
      "outputs": [
        {
          "output_type": "stream",
          "name": "stdout",
          "text": [
            "3\n"
          ]
        }
      ]
    },
    {
      "cell_type": "markdown",
      "source": [
        "# **Longest Common Subsequence (LCS):**"
      ],
      "metadata": {
        "id": "K14ti9Ptv5d4"
      }
    },
    {
      "cell_type": "code",
      "source": [
        "def longest_common_subsequence(text1, text2):\n",
        "    m, n = len(text1), len(text2)\n",
        "    dp = [[0] * (n + 1) for _ in range(m + 1)]\n",
        "\n",
        "    for i in range(1, m + 1):\n",
        "        for j in range(1, n + 1):\n",
        "            if text1[i - 1] == text2[j - 1]:\n",
        "                dp[i][j] = dp[i - 1][j - 1] + 1\n",
        "            else:\n",
        "                dp[i][j] = max(dp[i - 1][j], dp[i][j - 1])\n",
        "\n",
        "    return dp[m][n]\n",
        "\n",
        "# Example usage\n",
        "print(longest_common_subsequence(\"abcdef\", \"acbcf\"))  # Output: 4 (LCS: \"abcf\")\n"
      ],
      "metadata": {
        "colab": {
          "base_uri": "https://localhost:8080/"
        },
        "id": "c4Pax5Hmv5ZR",
        "outputId": "93e8dc4b-ae17-466a-ed4d-07502b252fc1"
      },
      "execution_count": 3,
      "outputs": [
        {
          "output_type": "stream",
          "name": "stdout",
          "text": [
            "4\n"
          ]
        }
      ]
    },
    {
      "cell_type": "markdown",
      "source": [
        "# **Matrix Chain Multiplication:**\n",
        "\n"
      ],
      "metadata": {
        "id": "JlM9DwrEwQSY"
      }
    },
    {
      "cell_type": "code",
      "source": [
        "def matrix_chain_multiplication(dims):\n",
        "    n = len(dims) - 1\n",
        "    dp = [[float('inf')] * n for _ in range(n)]\n",
        "\n",
        "    for i in range(n):\n",
        "        dp[i][i] = 0\n",
        "\n",
        "    for length in range(2, n + 1):\n",
        "        for i in range(n - length + 1):\n",
        "            j = i + length - 1\n",
        "            for k in range(i, j):\n",
        "                cost = dp[i][k] + dp[k + 1][j] + dims[i] * dims[k + 1] * dims[j + 1]\n",
        "                dp[i][j] = min(dp[i][j], cost)\n",
        "\n",
        "    return dp[0][n - 1]\n",
        "\n",
        "# Example usage\n",
        "matrix_dimensions = [10, 30, 5, 60]\n",
        "print(matrix_chain_multiplication(matrix_dimensions))  # Output: 4500\n"
      ],
      "metadata": {
        "colab": {
          "base_uri": "https://localhost:8080/"
        },
        "id": "1M12zEAvwQbo",
        "outputId": "0061bb4a-baca-4c8a-dc6e-95931b7b158a"
      },
      "execution_count": 4,
      "outputs": [
        {
          "output_type": "stream",
          "name": "stdout",
          "text": [
            "4500\n"
          ]
        }
      ]
    }
  ]
}