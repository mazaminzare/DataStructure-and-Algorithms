{
  "nbformat": 4,
  "nbformat_minor": 0,
  "metadata": {
    "colab": {
      "provenance": []
    },
    "kernelspec": {
      "name": "python3",
      "display_name": "Python 3"
    },
    "language_info": {
      "name": "python"
    }
  },
  "cells": [
    {
      "cell_type": "markdown",
      "source": [
        "# **Scheduling Algorithms**\n",
        "The time complexity of this solution is O(n log n), where \"n\" is the number of tasks or activities. The explanation of the algorithm is as follows:\n",
        "\n",
        "\n",
        "\n",
        "\n",
        "1.   First, both arrays (start times and finish times) are sorted, which takes O(n log n) time.\n",
        "2.   Second, The algorithm iterates through the sorted array of finish times, selecting the task with the earliest finish time in each step. Since the array is already sorted, this step takes O(n) time.\n",
        "3.  Finally, For each selected task, the algorithm checks if its start time is greater than or equal to the finish time of the previously selected task. If it is, the task is considered for selection, and the finish time of the newly selected task becomes the reference for the next iteration. This step also takes O(n) time, considering all tasks are selected.\n",
        "\n",
        "\n",
        "---\n",
        "\n",
        "\n",
        "\n",
        "In summary, the dominant factor in the time complexity is the sorting step, which is O(n log n), and the subsequent iterations take linear time. Thus, the overall time complexity of the algorithm is O(n log n).\n",
        "\n",
        "Here's the provided algorithm :"
      ],
      "metadata": {
        "id": "yY2ZqGfplM-6"
      }
    },
    {
      "cell_type": "code",
      "source": [
        "# Scheduling Algorithms\n",
        "\n",
        "class Task:\n",
        "    def __init__(self, start, finish):\n",
        "        self.start = start\n",
        "        self.finish = finish\n",
        "\n",
        "def taskCompare(s1, s2):\n",
        "    return s1.finish < s2.finish\n",
        "\n",
        "def printMaxTasks(arr, n):\n",
        "    arr.sort(key=lambda x: x.finish)\n",
        "\n",
        "    print(\"Following activities are selected:\")\n",
        "\n",
        "    i = 0\n",
        "    print(f\"({arr[i].start}, {arr[i].finish}),\", end=\" \")\n",
        "\n",
        "    for j in range(1, n):\n",
        "        if arr[j].start >= arr[i].finish:\n",
        "            print(f\"({arr[j].start}, {arr[j].finish}),\", end=\" \")\n",
        "            i = j\n",
        "    print()\n",
        "\n",
        "tasks = [Task(5, 9), Task(1, 2), Task(3, 4), Task(0, 6), Task(5, 7), Task(8, 9)]\n",
        "numberOfTasks = len(tasks)\n",
        "printMaxTasks(tasks, numberOfTasks)"
      ],
      "metadata": {
        "colab": {
          "base_uri": "https://localhost:8080/"
        },
        "id": "xWWUnvMbkI1j",
        "outputId": "da072e6b-5381-4fc3-ed48-53d6d2c8f3ab"
      },
      "execution_count": 3,
      "outputs": [
        {
          "output_type": "stream",
          "name": "stdout",
          "text": [
            "Following activities are selected:\n",
            "(1, 2), (3, 4), (5, 7), (8, 9), \n"
          ]
        }
      ]
    },
    {
      "cell_type": "code",
      "source": [
        "deno = [1, 2, 5, 10, 20, 50, 100, 500, 1000]\n",
        "numberOfCoins = len(deno)\n",
        "\n",
        "def findMin(V):\n",
        "    ans = []\n",
        "\n",
        "    for i in range(numberOfCoins - 1, -1, -1):\n",
        "        while V >= deno[i]:\n",
        "            V -= deno[i]\n",
        "            ans.append(deno[i])\n",
        "\n",
        "    for coin in ans:\n",
        "        print(coin, end=\" \")\n",
        "\n",
        "totalValue = 93\n",
        "print(\"Following is the minimal number of change for\", totalValue, \":\")\n",
        "findMin(totalValue)"
      ],
      "metadata": {
        "colab": {
          "base_uri": "https://localhost:8080/"
        },
        "id": "-ncsT_Ljj9Qj",
        "outputId": "fcfd0c6f-f161-4b8e-fdd5-757c98c59e39"
      },
      "execution_count": 2,
      "outputs": [
        {
          "output_type": "stream",
          "name": "stdout",
          "text": [
            "Following is the minimal number of change for 93 :\n",
            "50 20 20 2 1 "
          ]
        }
      ]
    },
    {
      "cell_type": "markdown",
      "source": [
        "# **Coin Fraction**"
      ],
      "metadata": {
        "id": "PisRFEdHbRhh"
      }
    },
    {
      "cell_type": "code",
      "source": [
        "deno = [1, 2, 5, 10, 20, 50, 100, 500, 1000]\n",
        "numberOfCoins = len(deno)\n",
        "\n",
        "def find_min(V):\n",
        "    ans = []\n",
        "\n",
        "    i = numberOfCoins - 1\n",
        "    while i >= 0:\n",
        "        while V >= deno[i]:\n",
        "            V -= deno[i]\n",
        "            ans.append(deno[i])\n",
        "        i -= 1\n",
        "\n",
        "    for coin in ans:\n",
        "        print(coin, end=\" \")\n",
        "\n",
        "totalValue = 93\n",
        "print(\"Following is the minimal number of coins for\", totalValue, \": \", end=\"\")\n",
        "find_min(totalValue)"
      ],
      "metadata": {
        "colab": {
          "base_uri": "https://localhost:8080/"
        },
        "id": "MXGWYslpafOs",
        "outputId": "54f2b97b-be55-41d7-cea4-7a20899867d8"
      },
      "execution_count": 4,
      "outputs": [
        {
          "output_type": "stream",
          "name": "stdout",
          "text": [
            "Following is the minimal number of coins for 93 : 50 20 20 2 1 "
          ]
        }
      ]
    },
    {
      "cell_type": "markdown",
      "source": [
        "# **Fractional Knapsack**"
      ],
      "metadata": {
        "id": "x9mYYZw3Z6A6"
      }
    },
    {
      "cell_type": "code",
      "execution_count": 1,
      "metadata": {
        "colab": {
          "base_uri": "https://localhost:8080/"
        },
        "id": "NPp_OAwKjlbI",
        "outputId": "fc726be8-93a8-4be6-c8b6-dc0f9e45e076"
      },
      "outputs": [
        {
          "output_type": "stream",
          "name": "stdout",
          "text": [
            "Maximum value we can obtain = 240.0\n"
          ]
        }
      ],
      "source": [
        "class Item:\n",
        "    def __init__(self, value, weight):\n",
        "        self.value = value\n",
        "        self.weight = weight\n",
        "\n",
        "def cmp(a, b):\n",
        "    r1 = a.value / a.weight\n",
        "    r2 = b.value / b.weight\n",
        "    return r1 > r2\n",
        "\n",
        "def fractionalKnapsack(W, arr, n):\n",
        "    arr.sort(key=lambda x: x.value / x.weight, reverse=True)\n",
        "    curWeight = 0\n",
        "    finalValue = 0.0\n",
        "\n",
        "    for i in range(n):\n",
        "        if curWeight + arr[i].weight <= W:\n",
        "            curWeight += arr[i].weight\n",
        "            finalValue += arr[i].value\n",
        "        else:\n",
        "            remain = W - curWeight\n",
        "            finalValue += arr[i].value * (remain / arr[i].weight)\n",
        "            break\n",
        "\n",
        "    return finalValue\n",
        "\n",
        "W = 50\n",
        "items = [Item(60, 10), Item(100, 20), Item(120, 30)]\n",
        "numberOfItems = len(items)\n",
        "maxvalue = fractionalKnapsack(W, items, numberOfItems)\n",
        "\n",
        "print(\"Maximum value we can obtain =\", maxvalue)\n"
      ]
    },
    {
      "cell_type": "markdown",
      "source": [
        "# **Hoffman Coding**"
      ],
      "metadata": {
        "id": "9i9jhq1heZXZ"
      }
    },
    {
      "cell_type": "code",
      "source": [
        "# A Huffman tree node\n",
        "class MinHeapNode:\n",
        "    def __init__(self, data, freq):\n",
        "        self.data = data\n",
        "        self.freq = freq\n",
        "        self.left = None\n",
        "        self.right = None\n",
        "\n",
        "# A Min Heap\n",
        "class MinHeap:\n",
        "    def __init__(self, capacity):\n",
        "        self.size = 0\n",
        "        self.capacity = capacity\n",
        "        self.array = [None] * capacity\n",
        "\n",
        "def newNode(data, freq):\n",
        "    temp = MinHeapNode(data, freq)\n",
        "    return temp\n",
        "\n",
        "def createMinHeap(capacity):\n",
        "    minHeap = MinHeap(capacity)\n",
        "    minHeap.size = 0\n",
        "    return minHeap\n",
        "\n",
        "def swapMinHeapNode(a, b):\n",
        "    a, b = b, a\n",
        "\n",
        "def minHeapify(minHeap, idx):\n",
        "    smallest = idx\n",
        "    left = 2 * idx + 1\n",
        "    right = 2 * idx + 2\n",
        "\n",
        "    if left < minHeap.size and minHeap.array[left].freq < minHeap.array[smallest].freq:\n",
        "        smallest = left\n",
        "\n",
        "    if right < minHeap.size and minHeap.array[right].freq < minHeap.array[smallest].freq:\n",
        "        smallest = right\n",
        "\n",
        "    if smallest != idx:\n",
        "        minHeap.array[idx], minHeap.array[smallest] = minHeap.array[smallest], minHeap.array[idx]\n",
        "        minHeapify(minHeap, smallest)\n",
        "\n",
        "def isSizeOne(minHeap):\n",
        "    return minHeap.size == 1\n",
        "\n",
        "def extractMin(minHeap):\n",
        "    temp = minHeap.array[0]\n",
        "    minHeap.array[0] = minHeap.array[minHeap.size - 1]\n",
        "\n",
        "    minHeap.size -= 1\n",
        "    minHeapify(minHeap, 0)\n",
        "\n",
        "    return temp\n",
        "\n",
        "def insertMinHeap(minHeap, minHeapNode):\n",
        "    minHeap.size += 1\n",
        "    i = minHeap.size - 1\n",
        "\n",
        "    while i and minHeapNode.freq < minHeap.array[(i - 1) // 2].freq:\n",
        "        minHeap.array[i] = minHeap.array[(i - 1) // 2]\n",
        "        i = (i - 1) // 2\n",
        "\n",
        "    minHeap.array[i] = minHeapNode\n",
        "\n",
        "def buildMinHeap(minHeap):\n",
        "    n = minHeap.size - 1\n",
        "\n",
        "    for i in range((n - 1) // 2, -1, -1):\n",
        "        minHeapify(minHeap, i)\n",
        "\n",
        "def printArr(arr, n):\n",
        "    for i in range(n):\n",
        "        print(arr[i], end=\"\")\n",
        "    print()\n",
        "\n",
        "def isLeaf(root):\n",
        "    return not root.left and not root.right\n",
        "\n",
        "def createAndBuildMinHeap(data, freq, size):\n",
        "    minHeap = createMinHeap(size)\n",
        "\n",
        "    for i in range(size):\n",
        "        minHeap.array[i] = newNode(data[i], freq[i])\n",
        "\n",
        "    minHeap.size = size\n",
        "    buildMinHeap(minHeap)\n",
        "\n",
        "    return minHeap\n",
        "\n",
        "def buildHuffmanTree(data, freq, size):\n",
        "    while not isSizeOne(minHeap):\n",
        "        left = extractMin(minHeap)\n",
        "        right = extractMin(minHeap)\n",
        "\n",
        "        top = newNode('$', left.freq + right.freq)\n",
        "        top.left = left\n",
        "        top.right = right\n",
        "\n",
        "        insertMinHeap(minHeap, top)\n",
        "\n",
        "    return extractMin(minHeap)\n",
        "\n",
        "def printCodes(root, arr, top):\n",
        "    if root.left:\n",
        "        arr[top] = 0\n",
        "        printCodes(root.left, arr, top + 1)\n",
        "\n",
        "    if root.right:\n",
        "        arr[top] = 1\n",
        "        printCodes(root.right, arr, top + 1)\n",
        "\n",
        "    if isLeaf(root):\n",
        "        print(root.data, \": \", end=\"\")\n",
        "        printArr(arr, top)\n",
        "\n",
        "def HuffmanCodes(data, freq, size):\n",
        "    root = buildHuffmanTree(data, freq, size)\n",
        "    arr = [0] * MAX_TREE_HT\n",
        "    top = 0\n",
        "\n",
        "    printCodes(root, arr, top)\n",
        "\n",
        "arr = ['a', 'b', 'c', 'd', 'e', 'f']\n",
        "freq = [42, 20, 5, 10, 11, 12]\n",
        "size = len(arr)\n",
        "\n",
        "MAX_TREE_HT = 100\n",
        "minHeap = createAndBuildMinHeap(arr, freq, size)\n",
        "HuffmanCodes(arr, freq, size)\n"
      ],
      "metadata": {
        "colab": {
          "base_uri": "https://localhost:8080/"
        },
        "id": "gE0GTGmkeYuj",
        "outputId": "45453dee-750d-4510-e8f2-9b3ddc078056"
      },
      "execution_count": 5,
      "outputs": [
        {
          "output_type": "stream",
          "name": "stdout",
          "text": [
            "a : 0\n",
            "e : 100\n",
            "f : 101\n",
            "c : 1100\n",
            "d : 1101\n",
            "b : 111\n"
          ]
        }
      ]
    }
  ]
}