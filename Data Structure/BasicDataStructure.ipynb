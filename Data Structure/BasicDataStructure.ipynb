{
  "nbformat": 4,
  "nbformat_minor": 0,
  "metadata": {
    "colab": {
      "provenance": []
    },
    "kernelspec": {
      "name": "python3",
      "display_name": "Python 3"
    },
    "language_info": {
      "name": "python"
    }
  },
  "cells": [
    {
      "cell_type": "markdown",
      "source": [
        "# Queue"
      ],
      "metadata": {
        "id": "R4N1SXaYuDt5"
      }
    },
    {
      "cell_type": "code",
      "execution_count": 2,
      "metadata": {
        "id": "Qzv1Jf8Z0zql"
      },
      "outputs": [],
      "source": [
        "# Queue\n",
        "class Queue:\n",
        "    def __init__(self, max_size):\n",
        "        self.max_size = max_size\n",
        "        self.Q = [0] * max_size\n",
        "        self.num = 0\n",
        "        self.first = 0\n",
        "\n",
        "    def enqueue(self, item):\n",
        "        if self.num >= self.max_size:\n",
        "            raise Exception(\"Queue overflow\")\n",
        "        self.Q[(self.num + self.first) % self.max_size] = item\n",
        "        self.num += 1\n",
        "\n",
        "    def dequeue(self):\n",
        "        if self.num == 0:\n",
        "            raise Exception(\"Queue empty\")\n",
        "        item = self.Q[self.first]\n",
        "        self.first = (self.first + 1) % self.max_size\n",
        "        self.num -= 1\n",
        "        return item\n",
        "\n",
        "    def front(self):\n",
        "        if self.num == 0:\n",
        "            raise Exception(\"Queue empty\")\n",
        "        return self.Q[self.first]\n",
        "\n",
        "    def is_empty(self):\n",
        "        return self.num == 0\n",
        "\n",
        "    def size(self):\n",
        "        return self.num\n",
        "\n",
        "    def is_full(self):\n",
        "        return self.num >= self.max_size"
      ]
    },
    {
      "cell_type": "code",
      "source": [
        "# Queue Example\n",
        "q = Queue(10) # (front of queue)[](back of queue)\n",
        "q.enqueue(\"maria\") # [\"maria\"]\n",
        "q.enqueue(\"mona\") # [\"maria\", \"mona\"]\n",
        "q.enqueue(\"romana\") # [\"maria\", \"mona\", \"romana\"]\n",
        "print(\"Queue size is:\", q.size())\n",
        "print(q.dequeue(), \"left the queue.\") # [\"mona\", \"romana\"]\n",
        "print(\"Front of queue is:\", q.front())\n",
        "q.enqueue(\"matilda\") # [\"mona\", \"romana\", \"matilda\"]\n",
        "q.dequeue() # [\"romana\", \"matilda\"]\n",
        "q.dequeue() # [\"matilda\"]\n",
        "q.dequeue() # []\n",
        "print(\"It was a queue!\")"
      ],
      "metadata": {
        "colab": {
          "base_uri": "https://localhost:8080/"
        },
        "id": "G7UvAsd_02do",
        "outputId": "c9090ae9-753e-45ce-8c1e-4525814dd4e1"
      },
      "execution_count": 3,
      "outputs": [
        {
          "output_type": "stream",
          "name": "stdout",
          "text": [
            "Queue size is: 3\n",
            "maria left the queue.\n",
            "Front of queue is: mona\n",
            "It was a queue!\n"
          ]
        }
      ]
    },
    {
      "cell_type": "markdown",
      "source": [
        "# Stack"
      ],
      "metadata": {
        "id": "xBrUb_o_uHGI"
      }
    },
    {
      "cell_type": "code",
      "source": [
        "# Stack\n",
        "class Stack:\n",
        "    def __init__(self, max_size):\n",
        "        self.max_size = max_size  # Size of stack\n",
        "        self.S = [0] * max_size  # Stack array\n",
        "        self.num = 0  # Number of elements in Stack\n",
        "\n",
        "    def push(self, item):\n",
        "        if self.num >= self.max_size:\n",
        "            raise Exception(\"Stack overflow\")\n",
        "        self.S[self.num] = item\n",
        "        self.num += 1\n",
        "\n",
        "    def pop(self):\n",
        "        if self.num == 0:\n",
        "            raise Exception(\"Stack empty\")\n",
        "        self.num -= 1\n",
        "        return self.S[self.num]\n",
        "\n",
        "    def top(self):\n",
        "        if self.num == 0:\n",
        "            raise Exception(\"Stack empty\")\n",
        "        return self.S[self.num-1]\n",
        "\n",
        "\n",
        "    def size(self):\n",
        "        return self.num\n",
        "\n",
        "    def is_full(self):\n",
        "        return self.num >= self.max_size\n",
        "\n",
        "    def is_empty(self):\n",
        "        return self.num == 0"
      ],
      "metadata": {
        "id": "OlTu2f0o1U4x"
      },
      "execution_count": 5,
      "outputs": []
    },
    {
      "cell_type": "code",
      "source": [
        "# Stack Example\n",
        "st = Stack(10) # (top of stack)[]\n",
        "st.push(25) # [25]\n",
        "st.push(70) # [70, 25]\n",
        "st.push(9.4) # [9.4, 70, 25]\n",
        "print(st.pop(), \"is popped.\") # [70, 25]\n",
        "st.push(\"No Name\") # [\"No Nam\", 70, 25]\n",
        "st.pop() # [70, 25]\n",
        "print(\"Top of stack:\", st.top())\n",
        "st.pop() # [25]\n",
        "st.pop() # []\n",
        "print(\"Stack is empty?\", st.is_empty())"
      ],
      "metadata": {
        "colab": {
          "base_uri": "https://localhost:8080/"
        },
        "id": "TCB5kxgg1X2n",
        "outputId": "b6bfbecb-89ff-40d7-c39c-c8d5d89dcf9d"
      },
      "execution_count": 6,
      "outputs": [
        {
          "output_type": "stream",
          "name": "stdout",
          "text": [
            "9.4 is popped.\n",
            "Top of stack: 70\n",
            "Stack is empty? True\n"
          ]
        }
      ]
    },
    {
      "cell_type": "markdown",
      "source": [
        "# DoubleEndedQueue"
      ],
      "metadata": {
        "id": "lhOoRbGHuKAx"
      }
    },
    {
      "cell_type": "code",
      "source": [
        "# DoubleEndedQueue\n",
        "class DoubleEndedQueue:\n",
        "    def __init__(self, max_size):\n",
        "        self.max_size = max_size\n",
        "        self.Q = [0] * max_size\n",
        "        self.num = 0\n",
        "        self.first = 0\n",
        "\n",
        "    def push_back(self, item): # Like one-way queue\n",
        "        if self.num >= self.max_size:\n",
        "            raise Exception(\"Queue overflow\")\n",
        "        self.Q[(self.num + self.first) % self.max_size] = item\n",
        "        self.num += 1\n",
        "\n",
        "    def push_front(self, item): # New\n",
        "        if self.num >= self.max_size:\n",
        "            raise Exception(\"Queue overflow\")\n",
        "        self.first = (self.first - 1) % self.max_size\n",
        "        self.Q[self.first] = item\n",
        "        self.num += 1\n",
        "\n",
        "    def pop_front(self): # Like one-way queue\n",
        "        if self.num == 0:\n",
        "            raise Exception(\"Queue empty\")\n",
        "        item = self.Q[self.first]\n",
        "        self.first = (self.first + 1) % self.max_size\n",
        "        self.num -= 1\n",
        "        return item\n",
        "\n",
        "    def front(self): # Like one-way queue\n",
        "        if self.num == 0:\n",
        "            raise Exception(\"Queue empty\")\n",
        "        return self.Q[self.first]\n",
        "\n",
        "    def pop_back(self): # New\n",
        "        if self.num == 0:\n",
        "            raise Exception(\"Queue empty\")\n",
        "        self.num -= 1\n",
        "        return self.Q[(self.num + self.first) % self.max_size]\n",
        "\n",
        "    def back(self): # New\n",
        "        if self.num == 0:\n",
        "            raise Exception(\"Queue empty\")\n",
        "        return self.Q[(self.num + self.first - 1) % self.max_size]\n",
        "\n",
        "    def is_empty(self):\n",
        "        return self.num == 0\n",
        "\n",
        "    def size(self):\n",
        "        return self.num\n",
        "\n",
        "    def is_full(self):\n",
        "        return self.num >= self.max_size"
      ],
      "metadata": {
        "id": "llv76NTm2EAo"
      },
      "execution_count": 7,
      "outputs": []
    },
    {
      "cell_type": "code",
      "source": [
        "# DoubleEndedQueue Example\n",
        "dq = DoubleEndedQueue(7) # (front of queue)[](back of queue)\n",
        "dq.push_front(1) # [1]\n",
        "dq.push_back(2) # [1, 2]\n",
        "dq.push_front(4) # [4, 1, 2]\n",
        "print(\"Queue size is:\", dq.size())\n",
        "dq.push_back(0) # [4, 1, 2, 0]\n",
        "print(\"Back of queue is:\", dq.back())\n",
        "dq.pop_front() # [1, 2, 0]\n",
        "print(\"Front of queue is:\", dq.front())\n",
        "dq.pop_back() # [1, 2]\n",
        "dq.pop_back() # [1]\n",
        "dq.pop_back() # []\n",
        "print(\"Queue size is:\", dq.size())"
      ],
      "metadata": {
        "colab": {
          "base_uri": "https://localhost:8080/"
        },
        "id": "xwCBLLZp2LFQ",
        "outputId": "08c4a206-d223-4f84-94ee-0146e95389a3"
      },
      "execution_count": 8,
      "outputs": [
        {
          "output_type": "stream",
          "name": "stdout",
          "text": [
            "Queue size is: 3\n",
            "Back of queue is: 0\n",
            "Front of queue is: 1\n",
            "Queue size is: 0\n"
          ]
        }
      ]
    },
    {
      "cell_type": "markdown",
      "source": [
        "# Linked List"
      ],
      "metadata": {
        "id": "oYc7ZVZfuLyJ"
      }
    },
    {
      "cell_type": "code",
      "source": [
        "# Linked List\n",
        "class Node:\n",
        "    def __init__(self, data):\n",
        "        self.data = data\n",
        "        self.next = None\n",
        "        self.prev = None\n",
        "\n",
        "class List:\n",
        "    def __init__(self):\n",
        "        self.head = Node(None)\n",
        "        self.head.next = self.head\n",
        "        self.head.prev = self.head\n",
        "        self.n = 0\n",
        "\n",
        "    def get(self,ind):\n",
        "        if ind >= self.size() :\n",
        "            raise Exception(\"Out of list\")\n",
        "        x = self.head.next\n",
        "        for i in range(ind) :\n",
        "            x = x.next\n",
        "        return x\n",
        "\n",
        "    def insert_after(self, x, data):\n",
        "        y = Node(data)\n",
        "        self.n += 1\n",
        "        y.prev = x\n",
        "        y.next = x.next\n",
        "        x.next = y\n",
        "        y.next.prev = y\n",
        "        return y\n",
        "\n",
        "    def delete(self, x):\n",
        "        self.n -= 1\n",
        "        x.prev.next = x.next\n",
        "        x.next.prev = x.prev\n",
        "        return x\n",
        "\n",
        "    def find(self, val):\n",
        "        x = self.head.next\n",
        "        for i in range(self.size()) :\n",
        "            if x.data == val :\n",
        "                return x\n",
        "            x = x.next\n",
        "        return None\n",
        "\n",
        "    def size(self):\n",
        "        return self.n\n",
        "\n",
        "    def is_empty(self):\n",
        "        return self.n==0"
      ],
      "metadata": {
        "id": "JvuXoyef244o"
      },
      "execution_count": 9,
      "outputs": []
    },
    {
      "cell_type": "code",
      "source": [
        "# Linked List Example\n",
        "list = List() # head\n",
        "list.insert_after(list.head, \"Irana\") # head <-> Irana\n",
        "list.insert_after(list.get(0), \"Montana\") # head <-> Irana <-> Montana\n",
        "list.insert_after(list.find(\"Montana\").prev, \"Savana\") # head <-> Irana <-> Savana <-> Montana\n",
        "list.delete(list.find(\"Savana\")) # head <-> Irana <-> Montana\n",
        "print(\"Current size of list is:\", list.size())"
      ],
      "metadata": {
        "colab": {
          "base_uri": "https://localhost:8080/"
        },
        "id": "TaiU6gfe27B4",
        "outputId": "a53e410b-9806-45d5-a641-dc06f2b7a2d9"
      },
      "execution_count": 10,
      "outputs": [
        {
          "output_type": "stream",
          "name": "stdout",
          "text": [
            "Current size of list is: 2\n"
          ]
        }
      ]
    }
  ]
}