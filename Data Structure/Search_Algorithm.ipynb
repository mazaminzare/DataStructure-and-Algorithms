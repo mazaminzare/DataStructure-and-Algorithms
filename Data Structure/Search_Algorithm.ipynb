{
  "nbformat": 4,
  "nbformat_minor": 0,
  "metadata": {
    "colab": {
      "provenance": []
    },
    "kernelspec": {
      "name": "python3",
      "display_name": "Python 3"
    },
    "language_info": {
      "name": "python"
    }
  },
  "cells": [
    {
      "cell_type": "markdown",
      "source": [
        "# **Linear Search:**"
      ],
      "metadata": {
        "id": "uRZ1wNL5ubfE"
      }
    },
    {
      "cell_type": "code",
      "source": [
        "def linear_search(arr, target):\n",
        "    for i, item in enumerate(arr):\n",
        "        if item == target:\n",
        "            return i  # Return the index where the target was found\n",
        "    return -1  # Return -1 if the target was not found\n",
        "\n",
        "# Example usage\n",
        "my_list = [3, 7, 1, 9, 5]\n",
        "target_element = 9\n",
        "result = linear_search(my_list, target_element)\n",
        "if result != -1:\n",
        "    print(f\"Target found at index {result}\")\n",
        "else:\n",
        "    print(\"Target not found\")\n"
      ],
      "metadata": {
        "colab": {
          "base_uri": "https://localhost:8080/"
        },
        "id": "5dPq-Yhtubmx",
        "outputId": "e1c0da9c-044c-4e1b-de2a-cc94d87294d6"
      },
      "execution_count": null,
      "outputs": [
        {
          "output_type": "stream",
          "name": "stdout",
          "text": [
            "Target found at index 3\n"
          ]
        }
      ]
    },
    {
      "cell_type": "markdown",
      "source": [
        "# Binary Search"
      ],
      "metadata": {
        "id": "j2txfKpeuQmK"
      }
    },
    {
      "cell_type": "code",
      "execution_count": null,
      "metadata": {
        "colab": {
          "base_uri": "https://localhost:8080/"
        },
        "id": "ytm6l-dIzw5b",
        "outputId": "df73f5dd-1c55-4f2d-8309-49b5da52c6ec"
      },
      "outputs": [
        {
          "output_type": "stream",
          "name": "stdout",
          "text": [
            "FOUND\n",
            "NOT FOUND\n"
          ]
        }
      ],
      "source": [
        "# Binary Search\n",
        "def binary_search(array, x, down, up):\n",
        "    if down == up - 1:\n",
        "        if array[down] == x:\n",
        "            return \"FOUND\"\n",
        "        else:\n",
        "            return \"NOT FOUND\"\n",
        "    mid = (up + down) // 2\n",
        "    if array[mid] == x:\n",
        "        return \"FOUND\"\n",
        "    elif array[mid] < x:\n",
        "        return binary_search(array, x, mid, up)\n",
        "    else:\n",
        "        return binary_search(array, x, down, mid)\n",
        "\n",
        "array = [1, 2, 3, 4, 5, 6, 100, 110]\n",
        "print(binary_search(array, 3, 0, len(array)))\n",
        "print(binary_search(array, 7, 0, len(array)))"
      ]
    },
    {
      "cell_type": "markdown",
      "source": [
        "# **Depth-First Search (DFS):**"
      ],
      "metadata": {
        "id": "AU4n3Pl-unt5"
      }
    },
    {
      "cell_type": "code",
      "source": [
        "def dfs(graph, node, visited):\n",
        "    if node not in visited:\n",
        "        print(node, end=\" \")\n",
        "        visited.add(node)\n",
        "        for neighbor in graph[node]:\n",
        "            dfs(graph, neighbor, visited)\n",
        "\n",
        "# Example usage\n",
        "graph = {\n",
        "    'A': ['B', 'C'],\n",
        "    'B': ['D', 'E'],\n",
        "    'C': ['F'],\n",
        "    'D': [],\n",
        "    'E': ['F'],\n",
        "    'F': []\n",
        "}\n",
        "visited_nodes = set()\n",
        "dfs(graph, 'A', visited_nodes)\n"
      ],
      "metadata": {
        "colab": {
          "base_uri": "https://localhost:8080/"
        },
        "id": "NVn1gp_Wuno0",
        "outputId": "b941a6b5-13cc-4e04-ab83-8a3e1a0079e3"
      },
      "execution_count": null,
      "outputs": [
        {
          "output_type": "stream",
          "name": "stdout",
          "text": [
            "A B D E F C "
          ]
        }
      ]
    },
    {
      "cell_type": "markdown",
      "source": [
        "# **Breadth-First Search (BFS):**\n"
      ],
      "metadata": {
        "id": "s1xWBwx6utN4"
      }
    },
    {
      "cell_type": "code",
      "source": [
        "from collections import deque\n",
        "\n",
        "def bfs(graph, start):\n",
        "    visited = set()\n",
        "    queue = deque([start])\n",
        "    visited.add(start)\n",
        "\n",
        "    while queue:\n",
        "        node = queue.popleft()\n",
        "        print(node, end=\" \")\n",
        "\n",
        "        for neighbor in graph[node]:\n",
        "            if neighbor not in visited:\n",
        "                queue.append(neighbor)\n",
        "                visited.add(neighbor)\n",
        "\n",
        "# Example usage\n",
        "graph = {\n",
        "    'A': ['B', 'C'],\n",
        "    'B': ['D', 'E'],\n",
        "    'C': ['F'],\n",
        "    'D': [],\n",
        "    'E': ['F'],\n",
        "    'F': []\n",
        "}\n",
        "bfs(graph, 'A')\n"
      ],
      "metadata": {
        "colab": {
          "base_uri": "https://localhost:8080/"
        },
        "id": "k-tDVkr0utIq",
        "outputId": "53b97f25-cbb3-4576-e7cd-b86263389314"
      },
      "execution_count": null,
      "outputs": [
        {
          "output_type": "stream",
          "name": "stdout",
          "text": [
            "A B C D E F "
          ]
        }
      ]
    },
    {
      "cell_type": "markdown",
      "source": [
        "# **Hash Map-Based Search:**"
      ],
      "metadata": {
        "id": "i5zLPno_u89Q"
      }
    },
    {
      "cell_type": "code",
      "source": [
        "# Creating a hash map\n",
        "hash_map = {'apple': 2, 'banana': 3, 'orange': 5}\n",
        "\n",
        "# Searching in the hash map\n",
        "if 'apple' in hash_map:\n",
        "    print(f\"Number of apples: {hash_map['apple']}\")\n",
        "else:\n",
        "    print(\"Apple not found in hash map\")\n"
      ],
      "metadata": {
        "id": "hb2Rcw2ru83Z"
      },
      "execution_count": null,
      "outputs": []
    }
  ]
}