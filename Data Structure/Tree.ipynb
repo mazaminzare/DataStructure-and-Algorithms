{
  "nbformat": 4,
  "nbformat_minor": 0,
  "metadata": {
    "colab": {
      "provenance": []
    },
    "kernelspec": {
      "name": "python3",
      "display_name": "Python 3"
    },
    "language_info": {
      "name": "python"
    }
  },
  "cells": [
    {
      "cell_type": "code",
      "execution_count": 1,
      "metadata": {
        "id": "Bwzvufs-5AP1"
      },
      "outputs": [],
      "source": [
        "class TreeNode:\n",
        "    def __init__(self, label):\n",
        "        self.parent = None\n",
        "        self.left_child = None\n",
        "        self.right_sibling = None\n",
        "        self.label = label\n",
        "\n",
        "    def __str__(self):\n",
        "        return \"TreeNode(%s)\" % str(self.label)"
      ]
    },
    {
      "cell_type": "code",
      "source": [
        "class Tree:\n",
        "    def __init__(self):\n",
        "        self.root = None\n",
        "\n",
        "    def assign_root(self, label):\n",
        "        assert self.root is None\n",
        "        self.root = TreeNode(label)\n",
        "\n",
        "    def is_empty(self):\n",
        "        return self.root is None\n",
        "\n",
        "    def add_new_node_1(self, parent, label):\n",
        "        new_node = TreeNode(label)\n",
        "        left_child = parent.left_child\n",
        "        parent.left_child = new_node\n",
        "        new_node.right_sibling = left_child\n",
        "        new_node.parent = parent\n",
        "        return new_node\n",
        "\n",
        "    def add_new_node_2(self, parent, label):\n",
        "        new_node = TreeNode(label)\n",
        "        new_node.parent = parent\n",
        "        if parent.left_child is None:\n",
        "            parent.left_child = new_node\n",
        "        else:\n",
        "            left_child = parent.left_child\n",
        "            while left_child.right_sibling is not None:\n",
        "                left_child = left_child.right_sibling\n",
        "            left_child.right_sibling = new_node\n",
        "        return new_node\n",
        "\n",
        "    def add_new_node(self, parent, label):\n",
        "        return self.add_new_node_2(parent, label)\n",
        "\n",
        "    def find_in_subtree(self, label, node):\n",
        "        if node.label == label:\n",
        "            return node\n",
        "\n",
        "        child = node.left_child\n",
        "        while child is not None:\n",
        "            result = self.find_in_subtree(label, child)\n",
        "            if result is not None:\n",
        "                return result\n",
        "            child = child.right_sibling\n",
        "        return None\n",
        "\n",
        "    def find_by_label(self, label):\n",
        "        if self.is_empty():\n",
        "            return None\n",
        "        return self.find_in_subtree(label, self.root)\n",
        "\n",
        "    def add_new_node_by_label(self, parent_label, label):\n",
        "        self.add_new_node(self.find_by_label(parent_label), label)\n",
        "\n",
        "    def get_subtree_size(self, node):\n",
        "        if node is None:\n",
        "            return 0\n",
        "\n",
        "        count = 1\n",
        "        child = node.left_child\n",
        "        while child is not None:\n",
        "            count += self.get_subtree_size(child)\n",
        "            child = child.right_sibling\n",
        "\n",
        "        return count\n",
        "\n",
        "    def get_size(self):\n",
        "        if self.is_empty():\n",
        "            return 0\n",
        "        return self.get_subtree_size(self.root)"
      ],
      "metadata": {
        "id": "xiP9j0Ae5drY"
      },
      "execution_count": 2,
      "outputs": []
    },
    {
      "cell_type": "code",
      "source": [
        "tree = Tree()\n",
        "tree.assign_root(3)\n",
        "tree.add_new_node_by_label(3, 9)\n",
        "tree.add_new_node_by_label(9, 2)\n",
        "tree.add_new_node_by_label(3, 4)\n",
        "tree.add_new_node_by_label(4, 10)\n",
        "tree.add_new_node_by_label(4, 6)\n",
        "tree.add_new_node_by_label(4, 5)\n",
        "tree.add_new_node_by_label(2, 8)\n",
        "tree.add_new_node_by_label(6, 7)\n",
        "tree.add_new_node_by_label(8, 1)\n",
        "\n",
        "print(tree.find_by_label(2))\n",
        "print(tree.get_size())"
      ],
      "metadata": {
        "colab": {
          "base_uri": "https://localhost:8080/"
        },
        "id": "J7oBgXeJ5hbY",
        "outputId": "d30bd788-6ac3-4a66-8e8f-67a31023b8f4"
      },
      "execution_count": 3,
      "outputs": [
        {
          "output_type": "stream",
          "name": "stdout",
          "text": [
            "TreeNode(2)\n",
            "10\n"
          ]
        }
      ]
    },
    {
      "cell_type": "code",
      "source": [
        "# Preorder Traversal\n",
        "\n",
        "def pre_order(tree, node):\n",
        "    order_list = list()\n",
        "    if node is None:\n",
        "        return order_list\n",
        "\n",
        "    order_list.append(node.label)\n",
        "    child = node.left_child\n",
        "    while child is not None:\n",
        "        order_list.extend(tree.pre_order(child))\n",
        "        child = child.right_sibling\n",
        "\n",
        "    return order_list\n",
        "\n",
        "Tree.pre_order = pre_order\n",
        "\n",
        "print(tree.pre_order(tree.root))"
      ],
      "metadata": {
        "colab": {
          "base_uri": "https://localhost:8080/"
        },
        "id": "cK1MNeSZ5iaJ",
        "outputId": "7cfa8eee-928a-4645-e9cb-5690c54a337c"
      },
      "execution_count": 4,
      "outputs": [
        {
          "output_type": "stream",
          "name": "stdout",
          "text": [
            "[3, 9, 2, 8, 1, 4, 10, 6, 7, 5]\n"
          ]
        }
      ]
    },
    {
      "cell_type": "code",
      "source": [
        "# Postorder Traversal\n",
        "def post_order(tree, node):\n",
        "    order_list = list()\n",
        "    if node is None:\n",
        "        return order_list\n",
        "\n",
        "    child = node.left_child\n",
        "    while child is not None:\n",
        "        order_list.extend(tree.post_order(child))\n",
        "        child = child.right_sibling\n",
        "    order_list.append(node.label)\n",
        "\n",
        "    return order_list\n",
        "\n",
        "Tree.post_order = post_order\n",
        "\n",
        "print(tree.post_order(tree.root))"
      ],
      "metadata": {
        "colab": {
          "base_uri": "https://localhost:8080/"
        },
        "id": "HG6aUZqx5uJA",
        "outputId": "b08a5be0-95c4-4fa5-9cb6-33647cec437c"
      },
      "execution_count": 5,
      "outputs": [
        {
          "output_type": "stream",
          "name": "stdout",
          "text": [
            "[1, 8, 2, 9, 10, 7, 6, 5, 4, 3]\n"
          ]
        }
      ]
    },
    {
      "cell_type": "code",
      "source": [
        "# Inorder Traversal\n",
        "def in_order(tree, node):\n",
        "    order_list = list()\n",
        "    if node is None:\n",
        "        return order_list\n",
        "\n",
        "    child = node.left_child\n",
        "    order_list.extend(tree.in_order(child))\n",
        "    order_list.append(node.label)\n",
        "    while child is not None:\n",
        "        child = child.right_sibling\n",
        "        order_list.extend(tree.in_order(child))\n",
        "\n",
        "    return order_list\n",
        "\n",
        "\n",
        "Tree.in_order = in_order\n",
        "\n",
        "print(tree.in_order(tree.root))"
      ],
      "metadata": {
        "colab": {
          "base_uri": "https://localhost:8080/"
        },
        "id": "WkfdGjVe5x9w",
        "outputId": "465bd2bb-3c36-4e52-a67e-c2da119bcd1b"
      },
      "execution_count": 6,
      "outputs": [
        {
          "output_type": "stream",
          "name": "stdout",
          "text": [
            "[1, 8, 2, 9, 3, 10, 4, 7, 6, 5]\n"
          ]
        }
      ]
    }
  ]
}