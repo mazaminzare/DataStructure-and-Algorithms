{
  "nbformat": 4,
  "nbformat_minor": 0,
  "metadata": {
    "colab": {
      "provenance": []
    },
    "kernelspec": {
      "name": "python3",
      "display_name": "Python 3"
    },
    "language_info": {
      "name": "python"
    }
  },
  "cells": [
    {
      "cell_type": "markdown",
      "source": [
        "# **Counting Sort**"
      ],
      "metadata": {
        "id": "vBHCa33d1thh"
      }
    },
    {
      "cell_type": "code",
      "execution_count": 15,
      "metadata": {
        "colab": {
          "base_uri": "https://localhost:8080/"
        },
        "id": "wudLUj7wutjO",
        "outputId": "4d4c9e16-6e67-4949-e9ff-543f26f434ef"
      },
      "outputs": [
        {
          "output_type": "stream",
          "name": "stdout",
          "text": [
            "[0, 3, 4, 2, 1, 1]\n"
          ]
        }
      ],
      "source": [
        "# Counting Sort\n",
        "A = [1, 2, 2, 2, 1, 3, 3, 1, 2, 4, 5]\n",
        "m = max(A)\n",
        "Count = [0] * (m + 1) # The count of each item in A\n",
        "for x in A:\n",
        "    Count[x] += 1\n",
        "print(Count)"
      ]
    },
    {
      "cell_type": "markdown",
      "source": [
        "# **Insertion Sort**"
      ],
      "metadata": {
        "id": "O1vCo8WM1wZ6"
      }
    },
    {
      "cell_type": "code",
      "source": [
        "# Insertion Sort\n",
        "A = [5, 2, -3, 4, 6, -7, 1, 9, 12, 5, -6]\n",
        "for k in range(1, len(A)):       # Insert all elements 2 to n\n",
        "    item = A[k]             # The k'th element to be inserted\n",
        "    i = k             # i will hold the position of insertion\n",
        "    while i > 0 and A[i-1] > item:\n",
        "        A[i] = A[i-1]                        # Shift to right\n",
        "        i -= 1\n",
        "    A[i] = item                                   # Insertion\n",
        "    print(A)                              # Comment this line\n",
        "print(A)"
      ],
      "metadata": {
        "colab": {
          "base_uri": "https://localhost:8080/"
        },
        "id": "88Xr2Ub6wGeJ",
        "outputId": "f55eeba2-119e-466f-87be-d4bbea12b099"
      },
      "execution_count": 16,
      "outputs": [
        {
          "output_type": "stream",
          "name": "stdout",
          "text": [
            "[2, 5, -3, 4, 6, -7, 1, 9, 12, 5, -6]\n",
            "[-3, 2, 5, 4, 6, -7, 1, 9, 12, 5, -6]\n",
            "[-3, 2, 4, 5, 6, -7, 1, 9, 12, 5, -6]\n",
            "[-3, 2, 4, 5, 6, -7, 1, 9, 12, 5, -6]\n",
            "[-7, -3, 2, 4, 5, 6, 1, 9, 12, 5, -6]\n",
            "[-7, -3, 1, 2, 4, 5, 6, 9, 12, 5, -6]\n",
            "[-7, -3, 1, 2, 4, 5, 6, 9, 12, 5, -6]\n",
            "[-7, -3, 1, 2, 4, 5, 6, 9, 12, 5, -6]\n",
            "[-7, -3, 1, 2, 4, 5, 5, 6, 9, 12, -6]\n",
            "[-7, -6, -3, 1, 2, 4, 5, 5, 6, 9, 12]\n",
            "[-7, -6, -3, 1, 2, 4, 5, 5, 6, 9, 12]\n"
          ]
        }
      ]
    },
    {
      "cell_type": "markdown",
      "source": [
        "#**Bubble Sort**"
      ],
      "metadata": {
        "id": "HJ01FM501zdI"
      }
    },
    {
      "cell_type": "code",
      "source": [
        "#Bubble Sort\n",
        "A = [5, 12, 3, 4, 7, 1, 0, 6, 19, 8, 13, 4, 2, 10, 16]\n",
        "n = len(A)\n",
        "for i in range(n - 1):\n",
        "    for j in range(n - 1, i, -1):\n",
        "        if A[j] < A[j - 1]:\n",
        "            A[j], A[j - 1] = A[j - 1], A[j]  # Swap a bubble\n",
        "    print(A)"
      ],
      "metadata": {
        "colab": {
          "base_uri": "https://localhost:8080/"
        },
        "id": "kAwoxiWbxWSg",
        "outputId": "e56f8290-9a0c-4961-cd40-d00fea3dfb51"
      },
      "execution_count": 17,
      "outputs": [
        {
          "output_type": "stream",
          "name": "stdout",
          "text": [
            "[0, 5, 12, 3, 4, 7, 1, 2, 6, 19, 8, 13, 4, 10, 16]\n",
            "[0, 1, 5, 12, 3, 4, 7, 2, 4, 6, 19, 8, 13, 10, 16]\n",
            "[0, 1, 2, 5, 12, 3, 4, 7, 4, 6, 8, 19, 10, 13, 16]\n",
            "[0, 1, 2, 3, 5, 12, 4, 4, 7, 6, 8, 10, 19, 13, 16]\n",
            "[0, 1, 2, 3, 4, 5, 12, 4, 6, 7, 8, 10, 13, 19, 16]\n",
            "[0, 1, 2, 3, 4, 4, 5, 12, 6, 7, 8, 10, 13, 16, 19]\n",
            "[0, 1, 2, 3, 4, 4, 5, 6, 12, 7, 8, 10, 13, 16, 19]\n",
            "[0, 1, 2, 3, 4, 4, 5, 6, 7, 12, 8, 10, 13, 16, 19]\n",
            "[0, 1, 2, 3, 4, 4, 5, 6, 7, 8, 12, 10, 13, 16, 19]\n",
            "[0, 1, 2, 3, 4, 4, 5, 6, 7, 8, 10, 12, 13, 16, 19]\n",
            "[0, 1, 2, 3, 4, 4, 5, 6, 7, 8, 10, 12, 13, 16, 19]\n",
            "[0, 1, 2, 3, 4, 4, 5, 6, 7, 8, 10, 12, 13, 16, 19]\n",
            "[0, 1, 2, 3, 4, 4, 5, 6, 7, 8, 10, 12, 13, 16, 19]\n",
            "[0, 1, 2, 3, 4, 4, 5, 6, 7, 8, 10, 12, 13, 16, 19]\n"
          ]
        }
      ]
    },
    {
      "cell_type": "markdown",
      "source": [
        "# **Speed Effecient Bubble Sort**"
      ],
      "metadata": {
        "id": "wrpHdfk713bA"
      }
    },
    {
      "cell_type": "code",
      "source": [
        "#Speed Effecient Bubble Sort\n",
        "A = [5, 12, 3, 4, 7, 1, 0, 6, 19, 8, 13, 4, 2, 10, 16]\n",
        "print(A)\n",
        "n = len(A)\n",
        "for i in range(n-1):\n",
        "    bubble_found = False\n",
        "    for j in range(n-1, i, -1):\n",
        "        if A[j] < A[j-1]:\n",
        "            A[j],A[j-1] = A[j-1], A[j]\n",
        "            bubble_found = True\n",
        "    if not bubble_found:     # Stopping when array is sorted\n",
        "        break\n",
        "    print(A)"
      ],
      "metadata": {
        "colab": {
          "base_uri": "https://localhost:8080/"
        },
        "id": "tNnsmVkbxedq",
        "outputId": "b76aba06-01d1-43f6-f3de-e32777bfde7b"
      },
      "execution_count": 18,
      "outputs": [
        {
          "output_type": "stream",
          "name": "stdout",
          "text": [
            "[5, 12, 3, 4, 7, 1, 0, 6, 19, 8, 13, 4, 2, 10, 16]\n",
            "[0, 5, 12, 3, 4, 7, 1, 2, 6, 19, 8, 13, 4, 10, 16]\n",
            "[0, 1, 5, 12, 3, 4, 7, 2, 4, 6, 19, 8, 13, 10, 16]\n",
            "[0, 1, 2, 5, 12, 3, 4, 7, 4, 6, 8, 19, 10, 13, 16]\n",
            "[0, 1, 2, 3, 5, 12, 4, 4, 7, 6, 8, 10, 19, 13, 16]\n",
            "[0, 1, 2, 3, 4, 5, 12, 4, 6, 7, 8, 10, 13, 19, 16]\n",
            "[0, 1, 2, 3, 4, 4, 5, 12, 6, 7, 8, 10, 13, 16, 19]\n",
            "[0, 1, 2, 3, 4, 4, 5, 6, 12, 7, 8, 10, 13, 16, 19]\n",
            "[0, 1, 2, 3, 4, 4, 5, 6, 7, 12, 8, 10, 13, 16, 19]\n",
            "[0, 1, 2, 3, 4, 4, 5, 6, 7, 8, 12, 10, 13, 16, 19]\n",
            "[0, 1, 2, 3, 4, 4, 5, 6, 7, 8, 10, 12, 13, 16, 19]\n"
          ]
        }
      ]
    },
    {
      "cell_type": "markdown",
      "source": [
        "# **Selection Sort**"
      ],
      "metadata": {
        "id": "gBkIDboU15UK"
      }
    },
    {
      "cell_type": "code",
      "source": [
        "# Selection Sort\n",
        "\n",
        "#Selection Sort\n",
        "def Selection_sort(A):\n",
        "    n = len(A)\n",
        "    for i in range(n-1):\n",
        "        index = i           # The index of min remaining item\n",
        "        for j in range(i+1, n):\n",
        "            if A[index] > A[j]:  # Finding min remaining item\n",
        "                index = j\n",
        "        A[i], A[index] = A[index], A[i]                # Swap\n",
        "    return A\n",
        "\n",
        "myList = [12, 3, 15, -4, 7, 6, -1, 0, 11, 6]\n",
        "myList = Selection_sort(myList)\n",
        "print(myList)"
      ],
      "metadata": {
        "colab": {
          "base_uri": "https://localhost:8080/"
        },
        "id": "DV9p2UJ6xn8n",
        "outputId": "9e89b2d3-0dbf-47e7-a6b2-9de0dca1c209"
      },
      "execution_count": 19,
      "outputs": [
        {
          "output_type": "stream",
          "name": "stdout",
          "text": [
            "[-4, -1, 0, 3, 6, 6, 7, 11, 12, 15]\n"
          ]
        }
      ]
    },
    {
      "cell_type": "markdown",
      "source": [
        "# **Bucket Sort**"
      ],
      "metadata": {
        "id": "VARDrT6_17Pw"
      }
    },
    {
      "cell_type": "code",
      "source": [
        "#  Bucket Sort\n",
        "def get_bucket(x):\n",
        "    return x // 10\n",
        "\n",
        "A = [29, 25, 9, 49, 3, 37, 21, 43]\n",
        "max_num = max(A)\n",
        "bucket_num = get_bucket(max_num) + 1\n",
        "# create buckets\n",
        "buckets = [[] for i in range(bucket_num)]\n",
        "print(buckets)\n",
        "\n"
      ],
      "metadata": {
        "colab": {
          "base_uri": "https://localhost:8080/"
        },
        "id": "DPO9mwUTyGEB",
        "outputId": "1a6c601b-e066-45ba-b034-de9d04f50056"
      },
      "execution_count": 20,
      "outputs": [
        {
          "output_type": "stream",
          "name": "stdout",
          "text": [
            "[[], [], [], [], []]\n"
          ]
        }
      ]
    },
    {
      "cell_type": "code",
      "source": [
        "#  Bucket Sort\n",
        "# Put numbers in buckets\n",
        "for i in A:\n",
        "    buckets[get_bucket(i)] += [i]\n",
        "    print(buckets)\n",
        "print(buckets)\n",
        "\n"
      ],
      "metadata": {
        "colab": {
          "base_uri": "https://localhost:8080/"
        },
        "id": "heWroU9nyjf_",
        "outputId": "57a9fcb1-fd51-4df4-818d-98277b082d9a"
      },
      "execution_count": 21,
      "outputs": [
        {
          "output_type": "stream",
          "name": "stdout",
          "text": [
            "[[], [], [29], [], []]\n",
            "[[], [], [29, 25], [], []]\n",
            "[[9], [], [29, 25], [], []]\n",
            "[[9], [], [29, 25], [], [49]]\n",
            "[[9, 3], [], [29, 25], [], [49]]\n",
            "[[9, 3], [], [29, 25], [37], [49]]\n",
            "[[9, 3], [], [29, 25, 21], [37], [49]]\n",
            "[[9, 3], [], [29, 25, 21], [37], [49, 43]]\n",
            "[[9, 3], [], [29, 25, 21], [37], [49, 43]]\n"
          ]
        }
      ]
    },
    {
      "cell_type": "code",
      "source": [
        "#  Bucket Sort\n",
        "print(buckets)\n",
        "for i in range(bucket_num):\n",
        "    buckets[i] = Selection_sort(buckets[i])\n",
        "print(buckets)\n",
        "print(\"=================\")\n",
        "A = []\n",
        "for i in range(bucket_num):\n",
        "    A += buckets[i]\n",
        "print(A)"
      ],
      "metadata": {
        "colab": {
          "base_uri": "https://localhost:8080/"
        },
        "id": "vdlcKsgBykdQ",
        "outputId": "a41a756d-af2c-423d-9296-9340de4609bb"
      },
      "execution_count": 22,
      "outputs": [
        {
          "output_type": "stream",
          "name": "stdout",
          "text": [
            "[[9, 3], [], [29, 25, 21], [37], [49, 43]]\n",
            "[[3, 9], [], [21, 25, 29], [37], [43, 49]]\n",
            "=================\n",
            "[3, 9, 21, 25, 29, 37, 43, 49]\n"
          ]
        }
      ]
    },
    {
      "cell_type": "code",
      "source": [
        "#  Bucket Sort\n",
        "def bucket_sort(A, n):\n",
        "    if n == 0:\n",
        "        return A\n",
        "\n",
        "    buckets = []\n",
        "    for i in range(0, 9):\n",
        "        buckets += [[]]\n",
        "\n",
        "    for x in A:\n",
        "        bucket_number = int(x / (10 ** (n - 1)) % 10)\n",
        "        buckets[bucket_number] += [x]\n",
        "\n",
        "    for i in range(0, 9):\n",
        "        buckets[i] = bucket_sort(buckets[i], n - 1)\n",
        "\n",
        "    res = []\n",
        "    for i in range(0, 9):\n",
        "        res += buckets[i]\n",
        "    return res\n",
        "\n",
        "if __name__ == \"__main__\":\n",
        "    A = [203, 132, 150, 205, 34, 2, 244, 241]\n",
        "    print(bucket_sort(A, 3))"
      ],
      "metadata": {
        "colab": {
          "base_uri": "https://localhost:8080/"
        },
        "id": "bLTVq9Wxy2wJ",
        "outputId": "14b8fb1d-f318-4199-d2d9-0002fcac37fd"
      },
      "execution_count": 23,
      "outputs": [
        {
          "output_type": "stream",
          "name": "stdout",
          "text": [
            "[2, 34, 132, 150, 203, 205, 241, 244]\n"
          ]
        }
      ]
    },
    {
      "cell_type": "markdown",
      "source": [
        "# **Radix Sort**"
      ],
      "metadata": {
        "id": "VLUYmlqD2AWh"
      }
    },
    {
      "cell_type": "code",
      "source": [
        "# Radix Sort\n",
        "A = [1523, 1, 19, 3229, 4, 16, 25, 909, 223, 1648]\n",
        "max_num = max(A)\n",
        "radix = 1            # Start to sort based on rightmost digit\n",
        "while radix <= max_num:\n",
        "    B = [[] for i in range(10)]    # 10 buckets for 10 digits\n",
        "    for i in A:                # Move each number to a bucket\n",
        "        B[int((i/radix) % 10)] += [i]\n",
        "    A = []                                   # Clear the list\n",
        "    for i in range(10):\n",
        "        A += B[i]                            # Append buckets\n",
        "    radix *= 10\n",
        "print(A)"
      ],
      "metadata": {
        "colab": {
          "base_uri": "https://localhost:8080/"
        },
        "id": "x9tTwcI0ytnP",
        "outputId": "f8c00f89-84ec-4034-b94d-fea74d1555ca"
      },
      "execution_count": 24,
      "outputs": [
        {
          "output_type": "stream",
          "name": "stdout",
          "text": [
            "[1, 4, 16, 19, 25, 223, 909, 1523, 1648, 3229]\n"
          ]
        }
      ]
    },
    {
      "cell_type": "markdown",
      "source": [
        "# **Merge Sort**"
      ],
      "metadata": {
        "id": "mgHZ9GKM2B2Y"
      }
    },
    {
      "cell_type": "code",
      "source": [
        "# Merge Sort\n",
        "def mergesort(A):\n",
        "    if len(A) < 2:\n",
        "        return A\n",
        "    mid = len(A) // 2\n",
        "    B = A[:mid]\n",
        "    C = A[mid:]\n",
        "    # print(B, C) # Remove comment to see running of algorithm\n",
        "    B = mergesort(B)\n",
        "    C = mergesort(C)\n",
        "    i = j = 0\n",
        "    A = []\n",
        "    while i < len(B) and j < len(C):\n",
        "        if B[i] <= C[j]:\n",
        "            A += [B[i]]\n",
        "            i += 1\n",
        "        else:\n",
        "            A += [C[j]]\n",
        "            j += 1\n",
        "    A += B[i:] + C[j:]\n",
        "    # print(A) # Remove comment to see running of algorithm\n",
        "    return A\n",
        "\n",
        "A = [5, -1, 3, 2, -4, 2, 8, 1, 0, -7, 9, 6, 1, 4]\n",
        "A = mergesort(A)\n",
        "print(A)"
      ],
      "metadata": {
        "colab": {
          "base_uri": "https://localhost:8080/"
        },
        "id": "oARSTc9mz5_Q",
        "outputId": "1eaf7bb2-30c8-4913-a0f7-dc4428fd2237"
      },
      "execution_count": 25,
      "outputs": [
        {
          "output_type": "stream",
          "name": "stdout",
          "text": [
            "[-7, -4, -1, 0, 1, 1, 2, 2, 3, 4, 5, 6, 8, 9]\n"
          ]
        }
      ]
    }
  ]
}